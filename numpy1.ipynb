{
 "cells": [
  {
   "cell_type": "code",
   "execution_count": 4,
   "metadata": {},
   "outputs": [
    {
     "name": "stdout",
     "output_type": "stream",
     "text": [
      "Enter number of columns in matrix3\n",
      "[[ 1  1  1]\n",
      " [ 4  2  1]\n",
      " [16  4  1]\n",
      " [25  5  1]]\n"
     ]
    }
   ],
   "source": [
    "import numpy as np    #importing numpy library\n",
    "\n",
    "def ATH(lst,N):           #vandermonde matrix calculation function\n",
    "    x=np.array(lst)\n",
    "    output_matrix=np.vander(x,N)\n",
    "    print(output_matrix)\n",
    "    \n",
    "input_lst=[1,2,4,5]      #input list\n",
    "\n",
    "N=int(input(\"Enter number of columns in matrix\"))     #getting number of columns from user\n",
    "\n",
    "ATH(input_lst,N)     #calling functions"
   ]
  },
  {
   "cell_type": "code",
   "execution_count": null,
   "metadata": {},
   "outputs": [],
   "source": []
  }
 ],
 "metadata": {
  "kernelspec": {
   "display_name": "Python 3",
   "language": "python",
   "name": "python3"
  },
  "language_info": {
   "codemirror_mode": {
    "name": "ipython",
    "version": 3
   },
   "file_extension": ".py",
   "mimetype": "text/x-python",
   "name": "python",
   "nbconvert_exporter": "python",
   "pygments_lexer": "ipython3",
   "version": "3.7.0"
  }
 },
 "nbformat": 4,
 "nbformat_minor": 2
}
